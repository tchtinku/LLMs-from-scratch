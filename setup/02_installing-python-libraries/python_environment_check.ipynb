{
 "cells": [
  {
   "cell_type": "code",
   "execution_count": null,
   "metadata": {
    "vscode": {
     "languageId": "plaintext"
    }
   },
   "outputs": [],
   "source": [
    "from python_environment_check import check_packages, get_requirements_dict\n",
    "\n",
    "d = get_requirements_dict()\n",
    "check_packages(d)"
   ]
  }
 ],
 "metadata": {
  "language_info": {
   "name": "python"
  }
 },
 "nbformat": 4,
 "nbformat_minor": 2
}

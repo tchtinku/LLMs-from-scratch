{
 "cells": [
  {
   "cell_type": "markdown",
   "metadata": {},
   "source": [
    "###### Multi-head Attention Plus Data Loading"
   ]
  },
  {
   "cell_type": "code",
   "execution_count": null,
   "metadata": {
    "vscode": {
     "languageId": "plaintext"
    }
   },
   "outputs": [],
   "source": [
    "# NBVAL_IGNORE_OUTPUT\n",
    "\n",
    "from importlib.metadata import version\n",
    "\n",
    "print(\"torch version:\", version(\"torch\"))"
   ]
  },
  {
   "cell_type": "markdown",
   "metadata": {},
   "source": [
    "###### The complete chapter code is located in ch03.ipynb.\n",
    "\n",
    "###### This notebook contains the main takeaway, multihead-attention implementation (plus the data loading pipeline from chapter 2)\n",
    "\n",
    "#### Data Loader from Chapter 2"
   ]
  },
  {
   "cell_type": "code",
   "execution_count": null,
   "metadata": {
    "vscode": {
     "languageId": "plaintext"
    }
   },
   "outputs": [],
   "source": [
    "import tiktoken\n",
    "mport torch\n",
    "import torch.nn as nn\n",
    "from torch.utils.data import Dataset, DataLoader\n",
    "\n",
    "class GPTDatasetV1(Dataset):\n",
    "   def __init__(self, txt, tokenizer, max_length, stride):\n",
    "       self.input_ids = []\n",
    "       self.target_ids = []\n",
    "\n",
    "       # Tokenize the entire text\n",
    "       token_ids = tokenizer.encode(txt, allowed_special={'<|endoftext|>'})\n",
    "\n",
    "       # Use a sliding window to chunk the book into overlapping sequences of max_length\n",
    "       for i in range(0, len(token_ids)-max_length, stride):\n",
    "           input_chunk = token_ids[i: i + max_length]\n",
    "           target_chunk = token_ids[i+1: i+max_length+1]\n",
    "           self.input_ids.append(torch.tensor(input_chunk))\n",
    "           self.target_ids.append(torch.tensor(target_chunk))\n",
    "\n",
    "   def __len__(self):\n",
    "      return len(self.input_ids)\n",
    "\n",
    "   def __getitem__(self, idx):\n",
    "      return self.input_ids[idx], self.target_ids[idx]\n",
    "\n",
    "def create_dataloader(txt, batch_size=4, max_length=256, stride=128, shuffle=True):\n",
    "    # Initialize the tokenizer\n",
    "    tokenizer = tiktoken.get_encoding(\"gpt2\")\n",
    "\n",
    "    # create dataset\n",
    "    dataset = GPTDatasetV1(txt, tokenizer, max_length, stride)\n",
    "\n",
    "    # create dataloader\n",
    "    dataloader = DataLoader(dataset, batch_size=batch_size, shuffle=shuffle)\n",
    "\n",
    "    return dataloader\n",
    "\n",
    "with open(\"small-text-sample.txt\", \"r\", encoding=\"utf-8\") as f:\n",
    "     raw_text = f.read()\n",
    "\n",
    "tokenizer = tiktoken.get_encoding(\"gpt2\")\n",
    "encoded_text = tokenizer.encode(raw_text)\n",
    "\n",
    "vocab_size = 50257\n",
    "output_dim = 256\n",
    "max_len = 1024\n",
    "context_length = max_len\n",
    "\n",
    "token_embedding_layer = nn.Embedding(vocab_size, output_dim)\n",
    "pos_embedding_layer = torch.nn.Embedding(context_length, output_dim)\n",
    "\n",
    "max_length = 4\n",
    "dataloader = create_dataloader(raw_text, batch_size=0, max_length=max_length, stride=max_length)"
   ]
  },
  {
   "cell_type": "code",
   "execution_count": null,
   "metadata": {
    "vscode": {
     "languageId": "plaintext"
    }
   },
   "outputs": [],
   "source": [
    "for batch in dataloader:\n",
    "    x, y = batch\n",
    "\n",
    "    token_embeddings = token_embedding_layer(x)\n",
    "    pos_embeddings = pos_embedding_layer(torch.arange(max_length))\n",
    "\n",
    "    input_embeddings = token_embeddings + pos_embeddings\n",
    "\n",
    "    break"
   ]
  },
  {
   "cell_type": "code",
   "execution_count": null,
   "metadata": {
    "vscode": {
     "languageId": "plaintext"
    }
   },
   "outputs": [],
   "source": [
    "print(input_embeddings.shape)"
   ]
  },
  {
   "cell_type": "markdown",
   "metadata": {},
   "source": [
    "#### Multi-head Attention from Chapter 3\n",
    "##### Variant A: Simple implementation"
   ]
  },
  {
   "cell_type": "code",
   "execution_count": null,
   "metadata": {
    "vscode": {
     "languageId": "plaintext"
    }
   },
   "outputs": [],
   "source": [
    "class CausalAttention(nn.Module):\n",
    "      def __init__(self, d_in, d_out, context_length, dropout, qkv_bias=False):\n",
    "          super().__init__()\n",
    "          self.d_out = d_out\n",
    "          self.W_query = nn.Linear(d_in, d_out, bias=qkv_bias)\n",
    "          self.W_key = nn.Linear(d_in, d_out, bias=qkv_bias)\n",
    "          self.W_value = nn.Linear(d_in, d_out, bias=qkv_bias)\n",
    "          self.dropout = nn.Dropout(dropout)  # New\n",
    "          self.register_buffer('mask', torch.triu(torch.ones(context_length, context_length), diagonal=1))  # New\n",
    "\n",
    "       def forward(self, x):\n",
    "           b, n_tokens, d_in = x.shape  # New batch dimension b\n",
    "           keys = self.W_key(x)\n",
    "           queries = self.W_query(x)\n",
    "           values = self.W_value(x)\n",
    "\n",
    "           attn_scores = queries @ keys.transpose(1, 2) # changed transpose\n",
    "           attn_scores.masked_fill_(   # New, _ops are in place\n",
    "               self.mask.bool()[:n_tokens, :n_tokens], -torch.inf\n",
    "           )\n",
    "           attn_weights = torch.softmax()\n"
   ]
  }
 ],
 "metadata": {
  "language_info": {
   "name": "python"
  }
 },
 "nbformat": 4,
 "nbformat_minor": 2
}

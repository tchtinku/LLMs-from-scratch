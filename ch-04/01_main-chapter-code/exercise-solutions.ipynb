{
 "cells": [
  {
   "cell_type": "markdown",
   "metadata": {},
   "source": [
    "#### Chapter 4 Exercise solutions"
   ]
  },
  {
   "cell_type": "code",
   "execution_count": null,
   "metadata": {
    "vscode": {
     "languageId": "plaintext"
    }
   },
   "outputs": [],
   "source": [
    "from importlib.metadata import version\n",
    "\n",
    "import torch\n",
    "print(\"torch version:\", version(\"torch\"))"
   ]
  },
  {
   "cell_type": "markdown",
   "metadata": {},
   "source": [
    "#### Exercise 4.1: Parameters in the feed forward versus attention module"
   ]
  },
  {
   "cell_type": "code",
   "execution_count": null,
   "metadata": {
    "vscode": {
     "languageId": "plaintext"
    }
   },
   "outputs": [],
   "source": [
    "from gpt import TransformerBlock\n",
    "\n",
    "GPT_CONFIG_124M = {\n",
    "    \"vocab_size\": 50257,\n",
    "    \"context_length\": 1024,\n",
    "    \"emb_dim\": 768,\n",
    "    \"n_heads\": 12,\n",
    "    \"n_layers\": 12,\n",
    "    \"drop_rate\": 0.1,\n",
    "    \"qkv_bias\": False\n",
    "}\n",
    "\n",
    "block = TransformerBlock(GPT_CONFIG_124M)\n",
    "print(block)"
   ]
  },
  {
   "cell_type": "code",
   "execution_count": null,
   "metadata": {
    "vscode": {
     "languageId": "plaintext"
    }
   },
   "outputs": [],
   "source": [
    "total_params = sum(p.numel() for p in block.ff.parameters())\n",
    "print(f\"Total number of parameters in feed forward module: {total_params:,}\")"
   ]
  },
  {
   "cell_type": "code",
   "execution_count": null,
   "metadata": {
    "vscode": {
     "languageId": "plaintext"
    }
   },
   "outputs": [],
   "source": [
    "total_params = sum(p.numel() for p in block.att.parameters())\n",
    "print(f\"Total number of parameters in feed attention module: {total_params:,}\")"
   ]
  },
  {
   "cell_type": "markdown",
   "metadata": {},
   "source": [
    "###### The results above are for a single transformer block\n",
    "###### Optionally multiply by 12 to capture all transformer blocks in the 124M GPT model\n",
    "\n",
    "##### Bonus: Mathematical breakdown\n",
    "\n",
    "###### For those interested in how these parameter counts are calculated mathematically, you can find the breakdown below (assuming emb_dim=768):\n",
    "\n",
    "###### Feed forward module:\n",
    "\n",
    "###### 1st Linear layer: 768 inputs × 4×768 outputs + 4×768 bias units = 2,362,368\n",
    "###### 2nd Linear layer: 4×768 inputs × 768 outputs + 768 bias units = 2,360,064\n",
    "###### Total: 1st Linear layer + 2nd Linear layer = 2,362,368 + 2,360,064 = 4,722,432\n",
    "\n",
    "###### Attention module:\n",
    "\n",
    "###### W_query: 768 inputs × 768 outputs = 589,824\n",
    "###### W_key: 768 inputs × 768 outputs = 589,824\n",
    "###### W_value: 768 inputs × 768 outputs = 589,824\n",
    "###### out_proj: 768 inputs × 768 outputs + 768 bias units = 590,592\n",
    "###### Total: W_query + W_key + W_value + out_proj = 3×589,824 + 590,592 = 2,360,064\n",
    "\n",
    "#### Exercise 4.2: Initialize larger GPT models\n",
    "\n",
    "###### GPT2-small (the 124M configuration we already implemented):\n",
    "\n",
    "###### \"emb_dim\" = 768\n",
    "###### \"n_layers\" = 12\n",
    "###### \"n_heads\" = 12\n",
    "\n",
    "##### GPT2-medium:\n",
    "\n",
    "###### \"emb_dim\" = 1024\n",
    "###### \"n_layers\" = 24\n",
    "###### \"n_heads\" = 16\n",
    "\n",
    "###### GPT2-large:\n",
    "\n",
    "###### \"emb_dim\" = 1280\n",
    "###### \"n_layers\" = 36\n",
    "###### \"n_heads\" = 20\n",
    "\n",
    "###### GPT2-XL:\n",
    "\n",
    "###### \"emb_dim\" = 1600\n",
    "###### \"n_layers\" = 48\n",
    "###### \"n_heads\" = 25"
   ]
  },
  {
   "cell_type": "code",
   "execution_count": null,
   "metadata": {
    "vscode": {
     "languageId": "plaintext"
    }
   },
   "outputs": [],
   "source": [
    "GPT_CONFIG_124M = {\n",
    "    \"vocab_size\": 50257,\n",
    "    \"context_length\": 1024,\n",
    "    \"emb_dim\": 768,\n",
    "    \"n_heads\": 12,\n",
    "    \"n_layers\": 12,\n",
    "    \"drop_rate\": 0.1,\n",
    "    \"qkv_bias\": False\n",
    "}\n",
    "\n",
    "def get_config(base_config, model_name=\"gpt2-small\"):\n",
    "    GPT_CONFIG = base_config.copy()\n",
    "\n",
    "    if model_name == \"gpt2-small\":\n",
    "        GPT_CONFIG[\"emb_dim\"] = 768\n",
    "        GPT_CONFIG[\"n_layers\"] = 12\n",
    "        GPT_CONFIG[\"n_heads\"] = 12\n",
    "\n",
    "    elif model_name == \"gpt2-medium\":\n",
    "          GPT_CONFIG[\"emb_dim\"] = 1024\n",
    "          GPT_CONFIG[\"n_layers\"] = 24\n",
    "          GPT_CONFIG[\"n_heads\"] = 16\n",
    "\n",
    "    elif model_name == \"gpt2-large\":\n",
    "          GPT_CONFIG[\"emb_dim\"] = 1280\n",
    "          GPT_CONFIG[\"n_layers\"] = 36\n",
    "          GPT_CONFIG[\"n_heads\"] = 20\n",
    "\n",
    "    elif model_name == \"gpt2-large\":\n",
    "          GPT_CONFIG[\"emb_dim\"] = 1600\n",
    "          GPT_CONFIG[\"n_layers\"] = 48\n",
    "          GPT_CONFIG[\"n_heads\"] = 25\n",
    "        \n",
    "    else:\n",
    "          raise ValueError(f\"Incorrect model name {model_name}\")\n",
    "\n",
    "    return GPT_CONFIG\n",
    "\n",
    "\n",
    "def calculate_size(model):    # based on chapter code\n",
    "     total_params = sum(p.numel() for p in model.parameters())\n",
    "     print(f\"Total number of parameters: {total_params:,}\")\n",
    "\n",
    "     total_params_gpt2 = total_params - sum(p.numel() for p in model.out_head.parameters())\n",
    "     print(f\"Number of trainable parameters considering weight tying: {total_params_gpt2:,}\")\n",
    "\n",
    "     # Calculate the total size in bytes (assuming float32, 4 bytes per parameter)\n",
    "     total_size_bytes = total_params * 4\n",
    "\n",
    "     # Convert to megabytes\n",
    "     total_size_mb = total_size_bytes / (1024*1024)\n",
    "\n",
    "     print(f\"Total size of the model: {total_size_mb:.2f} MB\")\n",
    "\n",
    "     "
   ]
  },
  {
   "cell_type": "code",
   "execution_count": null,
   "metadata": {
    "vscode": {
     "languageId": "plaintext"
    }
   },
   "outputs": [],
   "source": [
    "from gpt import GPTModel\n",
    "\n",
    "for model_abbrev in (\"small\", \"medium\", \"large\", \"x1\"):\n",
    "    model_name = f\"gpt2-{model_abbrev}\"\n",
    "    CONFIG = get_config(GPT_CONFIG_124M, model_name=model_name)\n",
    "    model = GPTModel(CONFIG)\n",
    "    print(f\"\\n\\n{model_name}\")\n",
    "    calculate_size(model)"
   ]
  },
  {
   "cell_type": "markdown",
   "metadata": {},
   "source": [
    "####  Exercise 4.3: Using separate dropout parameters"
   ]
  },
  {
   "cell_type": "code",
   "execution_count": null,
   "metadata": {
    "vscode": {
     "languageId": "plaintext"
    }
   },
   "outputs": [],
   "source": [
    "GPT_CONFIG_124M = {\n",
    "    \"vocab_size\": 50257,\n",
    "    \"context_length\": 1024,\n",
    "    \"emb_dim\": 768,\n",
    "    \"n_heads\": 12,\n",
    "    \"n_layers\": 12,\n",
    "    \"drop_rate_emb\": 0.1,    # NEW: dropout for embedding layers\n",
    "    \"drop_rate_attn\": 0.1,   # NEW: dropout for multi-head attention\n",
    "    \"drop_rate_shortcut\": 0.1, # NEW: dropout for shortcut connections\n",
    "    \"qkv_bias\": False\n",
    "}"
   ]
  },
  {
   "cell_type": "code",
   "execution_count": null,
   "metadata": {
    "vscode": {
     "languageId": "plaintext"
    }
   },
   "outputs": [],
   "source": [
    "import torch.nn as nn\n",
    "from gpt import MultiHeadAttention, LayerNorm, FeedForward\n",
    "\n",
    "class TransformerBlock(nn.Module):\n",
    "    def __init__(self, cfg):\n",
    "        super().__init__()\n",
    "        self.att = MultiHeadAttention(\n",
    "            d_in=cfg[\"emb_dim\"],\n",
    "            d_out=cfg[\"emb_dim\"],\n",
    "            context_length=cfg[\"context_length\"],\n",
    "            num_heads=cfg[\"n_heads\"],\n",
    "            dropout=cfg[\"drop_rate_attn\"],   # NEW: dropout for multi-head attention\n",
    "            qkv_bias=cfg[\"qkv_bias\"]\n",
    "        )\n",
    "        self.ff = FeedForward(cfg)\n",
    "        self.norm1 = LayerNorm(cfg[\"emb_dim\"])\n",
    "        self.norm2 = LayerNorm(cfg[\"emb_dim\"])\n",
    "        self.drop_shortcut = nn.Dropout(cfg[\"drop_rate_shortcut\"])\n",
    "\n",
    "    def forward(self, x):\n",
    "        # Shortcut connection for attention block\n",
    "        shortcut = x\n",
    "        x = self.norm1(x)\n",
    "        x = self.att(x)  # Shape [batch_size, num_tokens, emb_size]\n",
    "        x = self.drop_shortcut(x)\n",
    "        x = x + shortcut  # Add the original input back\n",
    "\n",
    "        # Shortcut connection for feed-forward block\n",
    "        shortcut = x\n",
    "        x = self.norm2(x)\n",
    "        x = self.ff(x)\n",
    "        x = self.drop_shortcut(x)\n",
    "        x = x + shortcut   # Add the original input back\n",
    "\n",
    "        return x\n",
    "\n",
    "class GPTModel(nn.Module):\n",
    "    def __init__(self, cfg):\n",
    "        super().__init__()\n",
    "        self.tok_emb = nn.Embedding(cfg[\"vocab_size\"], cfg[\"emb_dim\"])\n",
    "        self.pos_emb = nn.Embedding(cfg[\"context_length\"], cfg[\"emb_dim\"])\n",
    "        self.drop_emb = nn.Dropout(cfg[\"drop_rate_emb\"])  # NEW: dropout for embedding layers\n",
    "\n",
    "        self.trf_blocks = nn.Sequential(\n",
    "            *[TransformerBlock(cfg) for _ in range(cfg[\"n_layers\"])]\n",
    "        )\n",
    "\n",
    "        self.final_norm = LayerNorm(cfg[\"emb_dim\"])\n",
    "        self.out_head = nn.Linear(cfg[\"emb_dim\"], cfg[\"vocab_size\"], bias=False)\n",
    "\n",
    "    def forward(self, in_idx):\n",
    "        batch_size, seq_len = in_idx.shape\n",
    "        tok_embeds = self.tok_emb(in_idx)\n",
    "        pos_embeds = self.pos_emb(torch.arange(seq_len, device=in_idx.device))\n",
    "        x = tok_embeds + pos_embeds   # Shape  [batch_size, num_tokens, emb_size]\n",
    "        x = self.drop_emb(x)\n",
    "        x = self.trf_blocks(x)\n",
    "        x = self.final_norm(x)\n",
    "        logits = self.out_head(x)\n",
    "        return logits"
   ]
  },
  {
   "cell_type": "code",
   "execution_count": null,
   "metadata": {
    "vscode": {
     "languageId": "plaintext"
    }
   },
   "outputs": [],
   "source": [
    "import torch\n",
    "\n",
    "torch.manual_seed(123)\n",
    "model = GPTModel(GPT_CONFIG_124M)"
   ]
  }
 ],
 "metadata": {
  "language_info": {
   "name": "python"
  }
 },
 "nbformat": 4,
 "nbformat_minor": 2
}

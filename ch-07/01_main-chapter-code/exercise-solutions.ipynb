{
 "cells": [
  {
   "cell_type": "markdown",
   "metadata": {},
   "source": [
    "#### Chapter 7 Exercise solutions\n",
    "###### Exercise 7.1: Changing prompt styles\n",
    "###### Suppose we have the following data entry:\n",
    "###### \n",
    "###### {\n",
    "######   \"instruction\": \"Identify the correct spelling of the following word.\",\n",
    "######   \"input\": \"Ocassion\",\n",
    "######   \"output\": \"The correct spelling is 'Occasion.'\"\n",
    "###### }\n",
    "###### In the main chapter, we formatted it according to the Alpaca-style prompt template:\n",
    "###### \n",
    "###### Below is an instruction that describes a task. Write a response that appropriately completes the request.\n",
    "###### \n",
    "###### ### Instruction:\n",
    "###### Identify the correct spelling of the following word.\n",
    "###### \n",
    "###### ### Input:\n",
    "###### Occassion\n",
    "###### \n",
    "###### ### Response:\n",
    "###### The correct spelling is 'Occasion.'\n",
    "###### In this exercise, we now use the Phi-3 prompt template instead, which formats the data entry as follows:\n",
    "###### \n",
    "###### <user>\n",
    "###### Identify the correct spelling of the following word: 'Occasion'\n",
    "###### \n",
    "###### <assistant>\n",
    "###### The correct spelling is 'Occasion'.\n",
    "###### Note that this prompt template is substantially shorter, which reduces the runtime and hardware ###### requirements for finetuning the LLM and generating text since the input prompts are shorter. To make this ###### change, we update the format_input function as follows:"
   ]
  },
  {
   "cell_type": "code",
   "execution_count": null,
   "metadata": {
    "vscode": {
     "languageId": "plaintext"
    }
   },
   "outputs": [],
   "source": [
    "def format_input(entry):\n",
    "    instruction_text = (\n",
    "        f\"<|user|>\\n{entry['instruction']}\"\n",
    "    )\n",
    "\n",
    "    input_text = f\"\\n{entry['input']}\" if entry[\"input\"] else \"\"\n",
    "\n",
    "    return instruction_text + input_text"
   ]
  },
  {
   "cell_type": "markdown",
   "metadata": {},
   "source": [
    "###### Let's make sure that it works as intended by applying it to two input samples, one with and one without content in the 'input' field:"
   ]
  },
  {
   "cell_type": "code",
   "execution_count": null,
   "metadata": {
    "vscode": {
     "languageId": "plaintext"
    }
   },
   "outputs": [],
   "source": [
    "sample_data = [\n",
    "    {'instruction': 'Identify the correct spelling of the following word.', 'input': 'Ocassion', 'output': \"The correct spelling is 'Occasion.'\"}, \n",
    "    {'instruction': \"What is an antonym of 'complicated'?\", 'input': '', 'output': \"An antonym of 'complicated' is 'simple'.\"}\n",
    "]\n",
    "\n",
    "print(format_input(sample_data[0]))\n",
    "print()\n",
    "print(format_input(sample_data[1]))"
   ]
  }
 ],
 "metadata": {
  "language_info": {
   "name": "python"
  }
 },
 "nbformat": 4,
 "nbformat_minor": 2
}
